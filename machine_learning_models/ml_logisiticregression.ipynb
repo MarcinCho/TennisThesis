{
 "cells": [
  {
   "cell_type": "code",
   "execution_count": 3,
   "metadata": {},
   "outputs": [],
   "source": [
    "import warnings\n",
    "import json\n",
    "from sklearn.feature_selection import RFECV\n",
    "from sklearn.pipeline import Pipeline\n",
    "from sklearn.model_selection import RandomizedSearchCV, cross_val_score, StratifiedKFold\n",
    "import matplotlib.pyplot as plt\n",
    "from sklearn.metrics import classification_report, ConfusionMatrixDisplay\n",
    "from sklearn import metrics\n",
    "import numpy as np\n",
    "import pandas as pd\n",
    "import time\n",
    "\n",
    "start_time = time.time()\n",
    "\n",
    "\n",
    "warnings.filterwarnings('ignore')\n",
    "\n",
    "df = pd.read_csv('data_preparation/db/out/output_std.csv')"
   ]
  },
  {
   "cell_type": "code",
   "execution_count": 4,
   "metadata": {},
   "outputs": [],
   "source": [
    "df_2023 = df[df['date'].str.contains(\n",
    "    '2023', na=False) | df['date'].str.contains('2022', na=False)]\n",
    "\n",
    "df.drop(df_2023.index, inplace=True)"
   ]
  },
  {
   "cell_type": "code",
   "execution_count": 5,
   "metadata": {},
   "outputs": [],
   "source": [
    "# normalizacja\n",
    "non_numeric_columns = df.select_dtypes(['object']).columns\n",
    "\n",
    "df_numeric_only = df.drop(non_numeric_columns, axis=1)\n",
    "\n",
    "df = df_numeric_only\n",
    "\n",
    "df = df.drop(['match_id'], axis=1)\n",
    "\n",
    "df = df.fillna(df.median())\n",
    "\n",
    "\n",
    "def normalize(dff):\n",
    "    result = dff.copy()\n",
    "    for feature_name in dff.columns:\n",
    "        max_value = dff[feature_name].max()\n",
    "        min_value = dff[feature_name].min()\n",
    "        result[feature_name] = (\n",
    "            dff[feature_name] - min_value) / (max_value - min_value)\n",
    "    return result\n",
    "\n",
    "\n",
    "df = normalize(df)\n",
    "# df.info()\n",
    "df = df.fillna(df.median())"
   ]
  },
  {
   "cell_type": "code",
   "execution_count": 6,
   "metadata": {},
   "outputs": [],
   "source": [
    "non_numeric_columns = df_2023.select_dtypes(['object']).columns\n",
    "\n",
    "df_numeric_only = df_2023.drop(non_numeric_columns, axis=1)\n",
    "\n",
    "df_2023 = df_numeric_only\n",
    "\n",
    "df_2023 = df_2023.drop(['match_id'], axis=1)\n",
    "\n",
    "df_2023 = normalize(df_2023)\n",
    "\n",
    "df_2023 = df_2023.fillna(df_2023.median())\n",
    "\n",
    "y_2023 = pd.DataFrame(df_2023['y'])\n",
    "x_2023 = df_2023.drop(['y'], axis=1)"
   ]
  },
  {
   "cell_type": "code",
   "execution_count": 7,
   "metadata": {},
   "outputs": [],
   "source": [
    "# trining and testing\n",
    "from sklearn.model_selection import train_test_split\n",
    "\n",
    "Y = pd.DataFrame(df['y'])\n",
    "df = df.drop(['y'], axis=1)\n",
    "X = df\n",
    "X_train, X_test, y_train, y_test = train_test_split(\n",
    "    X, Y, test_size=0.1, random_state=45, stratify=Y)"
   ]
  },
  {
   "cell_type": "code",
   "execution_count": 8,
   "metadata": {},
   "outputs": [
    {
     "name": "stdout",
     "output_type": "stream",
     "text": [
      "Trening\n",
      "{'0.0': {'precision': 0.9484193011647255, 'recall': 0.9539748953974896, 'f1-score': 0.951188986232791, 'support': 2390.0}, '1.0': {'precision': 0.9553208773354996, 'recall': 0.9499192245557351, 'f1-score': 0.9526123936816525, 'support': 2476.0}, 'accuracy': 0.9519112207151664, 'macro avg': {'precision': 0.9518700892501126, 'recall': 0.9519470599766123, 'f1-score': 0.9519006899572218, 'support': 4866.0}, 'weighted avg': {'precision': 0.951931077284503, 'recall': 0.9519112207151664, 'f1-score': 0.9519132683625446, 'support': 4866.0}}\n",
      "Walidacja\n",
      "{'0.0': {'precision': 0.9955817378497791, 'recall': 0.676, 'f1-score': 0.8052412150089339, 'support': 2000.0}, '1.0': {'precision': 0.7626373626373626, 'recall': 0.9971264367816092, 'f1-score': 0.8642590286425903, 'support': 2088.0}, 'accuracy': 0.8400195694716243, 'macro avg': {'precision': 0.8791095502435708, 'recall': 0.8365632183908046, 'f1-score': 0.834750121825762, 'support': 4088.0}, 'weighted avg': {'precision': 0.8766023211561573, 'recall': 0.8400195694716243, 'f1-score': 0.8353853429118386, 'support': 4088.0}}\n",
      "AUC:  0.9909039752333701\n",
      "AUC:  0.9820785440613027\n"
     ]
    }
   ],
   "source": [
    "# Logistic regression Basic hiperparameters\n",
    "from sklearn.linear_model import LogisticRegression\n",
    "\n",
    "model = LogisticRegression(random_state=45, n_jobs=-1)\n",
    "\n",
    "result = model.fit(X_train, y_train)\n",
    "y_pred = model.predict(X_test)\n",
    "\n",
    "\n",
    "basic_report = classification_report(y_test, y_pred, output_dict=True)\n",
    "print(\"Trening\")\n",
    "print(basic_report)\n",
    "basic_pre = basic_report['weighted avg']['precision']\n",
    "\n",
    "\n",
    "\n",
    "pred_val = model.predict(x_2023)\n",
    "basic_report = classification_report(y_2023, pred_val, output_dict=True)\n",
    "print(\"Walidacja\")\n",
    "print(basic_report)\n",
    "basic_pre_val = basic_report['weighted avg']['precision']\n",
    "\n",
    "auc_basic = metrics.roc_auc_score(y_test, model.predict_proba(X_test)[::, 1])\n",
    "print(\"AUC: \", auc_basic)\n",
    "\n",
    "auc_val = metrics.roc_auc_score(y_2023, model.predict_proba(x_2023)[::, 1])\n",
    "print(\"AUC: \", auc_val)\n",
    "\n",
    "\n",
    "# cnf_matrix = metrics.confusion_matrix(y_test, y_pred)\n",
    "# # cnf_matrix\n",
    "\n",
    "# disp = ConfusionMatrixDisplay(confusion_matrix=cnf_matrix)\n",
    "# disp.plot()\n",
    "# plt.ylabel('Wartosci prawdziwe')\n",
    "# plt.xlabel('Predykcje')\n",
    "# plt.grid(False)\n",
    "# plt.show()\n",
    "\n",
    "# basic_report = classification_report(y_test, y_pred, output_dict=True)\n",
    "\n",
    "# y_pred_proba = result.predict_proba(X_test)[::, 1]\n",
    "# fpr_basic, tpr_basic, _ = metrics.roc_curve(y_test,  y_pred_proba)\n",
    "# auc_basic = metrics.roc_auc_score(y_test, y_pred_proba)\n",
    "# print(\"AUC: \", auc_basic)"
   ]
  },
  {
   "cell_type": "code",
   "execution_count": 9,
   "metadata": {},
   "outputs": [
    {
     "name": "stdout",
     "output_type": "stream",
     "text": [
      "0.8766023211561573\n"
     ]
    }
   ],
   "source": [
    "print(basic_pre_val)"
   ]
  },
  {
   "cell_type": "code",
   "execution_count": 11,
   "metadata": {},
   "outputs": [
    {
     "name": "stdout",
     "output_type": "stream",
     "text": [
      "Fitting 10 folds for each of 30 candidates, totalling 300 fits\n",
      "Najlepszy wynik: 0.9528222494032853\n",
      "Najlepsze hiperparametry: {'C': 6, 'solver': 'liblinear'}\n"
     ]
    }
   ],
   "source": [
    "from sklearn.linear_model import LogisticRegression\n",
    "from sklearn.model_selection import GridSearchCV\n",
    "model = LogisticRegression(penalty='l1', random_state=45, n_jobs=-1)\n",
    "\n",
    "param_grid = {\n",
    "    'C': list(range(0, 15, 1)),\n",
    "    'solver': ['liblinear', 'saga'],\n",
    "    # 'solver': ['lbfgs', 'liblinear', 'sag', 'newton-cg', 'saga'],\n",
    "}\n",
    "\n",
    "search = GridSearchCV(model, param_grid,\n",
    "                            cv=10, scoring='accuracy', n_jobs=-1, verbose=1)\n",
    "\n",
    "result = search.fit(X_train, y_train)\n",
    "\n",
    "print('Najlepszy wynik: %s' % result.best_score_)\n",
    "print('Najlepsze hiperparametry: %s' % result.best_params_)\n",
    "\n",
    "# cnf_matrix = metrics.confusion_matrix(y_test, y_pred)\n",
    "# # cnf_matrix\n",
    "\n",
    "# disp = ConfusionMatrixDisplay(confusion_matrix=cnf_matrix)\n",
    "# disp.plot()\n",
    "# plt.show()\n",
    "\n",
    "# y_pred_proba = result.predict_proba(X_test)[::, 1]\n",
    "# fpr, tpr, _ = metrics.roc_curve(y_test,  y_pred_proba)\n",
    "# auc = metrics.roc_auc_score(y_test, y_pred_proba)\n",
    "# plt.plot(fpr, tpr, label=\"data 1, auc=\"+str(auc))\n",
    "# plt.legend(loc=4)\n",
    "# plt.show()"
   ]
  },
  {
   "cell_type": "code",
   "execution_count": null,
   "metadata": {},
   "outputs": [],
   "source": []
  },
  {
   "cell_type": "code",
   "execution_count": 10,
   "metadata": {},
   "outputs": [
    {
     "name": "stdout",
     "output_type": "stream",
     "text": [
      "Optimal number of features : 26\n",
      "                Rank\n",
      "Unnamed: 0         1\n",
      "SvGms_P2           1\n",
      "2ndWon_P2          1\n",
      "1stWon_P2          1\n",
      "1stIn_P2           1\n",
      "svpt_P2            1\n",
      "df_P2              1\n",
      "ace_P2             1\n",
      "rank_points_P2     1\n",
      "rank_P2            1\n",
      "age_P2             1\n",
      "bpFaced_P1         1\n",
      "bpSaved_P2         1\n",
      "bpSaved_P1         1\n",
      "2ndWon_P1          1\n",
      "1stWon_P1          1\n",
      "1stIn_P1           1\n",
      "svpt_P1            1\n",
      "df_P1              1\n",
      "ace_P1             1\n",
      "rank_points_P1     1\n",
      "rank_P1            1\n",
      "ht_P1              1\n",
      "age_P1             1\n",
      "SvGms_P1           1\n",
      "bpFaced_P2         1\n",
      "draw_size          2\n",
      "ht_P2              3\n"
     ]
    },
    {
     "data": {
      "image/png": "[encoded data removed]",
      "text/plain": [
       "<Figure size 1200x600 with 1 Axes>"
      ]
     },
     "metadata": {},
     "output_type": "display_data"
    },
    {
     "name": "stdout",
     "output_type": "stream",
     "text": [
      "              precision    recall  f1-score   support\n",
      "\n",
      "         0.0       0.95      0.96      0.95      2390\n",
      "         1.0       0.96      0.95      0.95      2476\n",
      "\n",
      "    accuracy                           0.95      4866\n",
      "   macro avg       0.95      0.95      0.95      4866\n",
      "weighted avg       0.95      0.95      0.95      4866\n",
      "\n"
     ]
    }
   ],
   "source": [
    "from sklearn.inspection import DecisionBoundaryDisplay\n",
    "\n",
    "model = LogisticRegression(C=6, solver='lbfgs', random_state=45)\n",
    "cv = StratifiedKFold(3)\n",
    "\n",
    "rfecv = RFECV(model, cv=cv, scoring='accuracy', step=1, n_jobs=-1)\n",
    "\n",
    "rfecv.fit(X_train, y_train)\n",
    "\n",
    "y_pred = rfecv.predict(X_test)\n",
    "\n",
    "print('Optimal number of features : %d' % rfecv.n_features_)\n",
    "\n",
    "ranks = pd.DataFrame(\n",
    "    rfecv.ranking_, index=X.columns, columns=['Rank'])\n",
    "\n",
    "print(ranks.sort_values(by='Rank', ascending=True))\n",
    "\n",
    "selected_features = ranks[ranks['Rank'] == 1].index.values.tolist()\n",
    "\n",
    "# rfecv.support_rfecv_df = pd.DataFrame(rfecv.ranking_, index=X.columns, columns=[\n",
    "#                                       'Rank']).sort_values(by='Rank', ascending=True)\n",
    "plt.style.use('ggplot')\n",
    "plt.figure(figsize=(12, 6))\n",
    "plt.xlabel('Liczba wykorzystanych cech')\n",
    "plt.ylabel('Precyzja')\n",
    "plt.plot(range(1, len(rfecv.cv_results_[\n",
    "         \"mean_test_score\"]) + 1), rfecv.cv_results_[\"mean_test_score\"],color='#0088ff')\n",
    "plt.show()\n",
    "\n",
    "print(classification_report(y_test, y_pred))\n",
    "\n"
   ]
  },
  {
   "cell_type": "code",
   "execution_count": null,
   "metadata": {},
   "outputs": [],
   "source": [
    "X = df[selected_features]\n",
    "X_train, X_test, y_train, y_test = train_test_split(\n",
    "    X, Y, test_size=0.1, random_state=45, stratify=Y)"
   ]
  },
  {
   "cell_type": "code",
   "execution_count": null,
   "metadata": {},
   "outputs": [],
   "source": [
    "model = LogisticRegression(C=6, solver='lbfgs', random_state=45)\n",
    "\n",
    "result = model.fit(X_train, y_train)\n",
    "y_pred = model.predict(X_test)\n",
    "\n",
    "\n",
    "y_pred_proba = result.predict_proba(X_test)[::, 1]\n",
    "fpr, tpr, _ = metrics.roc_curve(y_test,  y_pred_proba)\n",
    "auc = metrics.roc_auc_score(y_test, y_pred_proba)\n",
    "\n",
    "\n",
    "\n",
    "opti_report = classification_report(y_test, y_pred, output_dict=True)\n",
    "print(\"Trening\")\n",
    "opti_pre = opti_report['weighted avg']['precision']\n",
    "opti_f1 = opti_report['weighted avg']['f1-score']\n",
    "opti_auc = metrics.roc_auc_score(y_test, model.predict_proba(X_test)[::, 1])\n",
    "\n",
    "\n",
    "\n",
    "pred_val = model.predict(x_2023)\n",
    "opti_val_report = classification_report(y_2023, pred_val, output_dict=True)\n",
    "print(\"Walidacja\")\n",
    "print(opti_val_report)\n",
    "opti_pre_val = opti_val_report['weighted avg']['precision']\n",
    "opti_f1_val = opti_val_report['weighted avg']['f1-score']\n",
    "opti_auc_val = metrics.roc_auc_score(y_2023, model.predict_proba(x_2023)[::, 1])\n",
    "\n",
    "\n",
    "\n",
    "auc_basic = metrics.roc_auc_score(y_test, model.predict_proba(X_test)[::, 1])\n",
    "print(\"AUC: \", auc_basic)\n",
    "\n",
    "auc_val = metrics.roc_auc_score(y_2023, model.predict_proba(x_2023)[::, 1])\n",
    "print(\"AUC: \", auc_val)\n",
    "\n",
    "\n",
    "# plt.grid(True)\n",
    "# plt.plot(fpr, tpr, label=\"Regresja Logistyczna, auc=\"+str(auc), color='red')\n",
    "# plt.plot(fpr_basic, tpr_basic, label=\"Regresja Logistyczna po optymalziacji, auc=\" +\n",
    "#          str(auc_basic), color='blue')\n",
    "# plt.legend(loc=4)\n",
    "# plt.show()"
   ]
  },
  {
   "cell_type": "code",
   "execution_count": null,
   "metadata": {},
   "outputs": [],
   "source": [
    "import json\n",
    "\n",
    "filename = 'results.json'\n",
    "\n",
    "final_results = {\n",
    "    \"prediction_basic\": basic_pre,\n",
    "    \"v_prcision_basic\": basic_pre_val,\n",
    "    \"prediction_optimized\": opti_pre,\n",
    "    \"v_prcision_optimized\": opti_pre_val,\n",
    "    \"f1_score_opt\": opti_f1,\n",
    "    \"f1_score_opt_val\": opti_f1_val,\n",
    "    \"auc_opt\": float(opti_auc),\n",
    "    \"auc_opt_val\": float(opti_auc_val),\n",
    "    \"selected_features\": selected_features,\n",
    "}\n",
    "\n",
    "\n",
    "with open(filename, 'r') as file:\n",
    "    data = json.load(file)\n",
    "\n",
    "\n",
    "data['Regresja logistyczna'] = (final_results)\n",
    "\n",
    "\n",
    "with open('results.json', 'w') as file:\n",
    "    json.dump(data, file, indent=4)"
   ]
  }
 ],
 "metadata": {
  "kernelspec": {
   "display_name": "base",
   "language": "python",
   "name": "python3"
  },
  "language_info": {
   "codemirror_mode": {
    "name": "ipython",
    "version": 3
   },
   "file_extension": ".py",
   "mimetype": "text/x-python",
   "name": "python",
   "nbconvert_exporter": "python",
   "pygments_lexer": "ipython3",
   "version": "3.12.3"
  },
  "orig_nbformat": 4
 },
 "nbformat": 4,
 "nbformat_minor": 2
}

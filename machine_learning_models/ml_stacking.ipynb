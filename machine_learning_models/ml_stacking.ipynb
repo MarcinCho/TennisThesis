{
 "cells": [
  {
   "cell_type": "code",
   "execution_count": null,
   "metadata": {},
   "outputs": [],
   "source": [
    "import pandas as pd\n",
    "import numpy as np\n",
    "from sklearn import metrics\n",
    "from sklearn.metrics import classification_report, ConfusionMatrixDisplay\n",
    "import matplotlib.pyplot as plt\n",
    "from sklearn.model_selection import RandomizedSearchCV, cross_val_score, StratifiedKFold\n",
    "from sklearn.pipeline import Pipeline\n",
    "from sklearn.feature_selection import RFECV\n",
    "import matplotlib.pyplot as plt\n",
    "\n",
    "import warnings\n",
    "warnings.filterwarnings('ignore')\n",
    "\n",
    "df = pd.read_csv('../db/out/wta_mean_pvp.csv')"
   ]
  },
  {
   "cell_type": "code",
   "execution_count": null,
   "metadata": {},
   "outputs": [],
   "source": [
    "testp1 = df.filter(regex='_P1_VS$', axis=1)\n",
    "\n",
    "testp2 = df.filter(regex='_P2_VS$', axis=1)\n",
    "\n",
    "\n",
    "feats = list(zip(testp1.columns, testp2.columns))\n",
    "\n",
    "\n",
    "for col_a, col_b in feats:\n",
    "    df[col_a + '_diff'] = df[col_a] - df[col_b]\n",
    "\n",
    "df.drop(testp1.columns, axis=1, inplace=True)\n",
    "\n",
    "df.drop(testp2.columns, axis=1, inplace=True)\n",
    "\n",
    "non_numeric_columns = df.select_dtypes(['object']).columns\n",
    "\n",
    "df = df.drop(non_numeric_columns, axis=1)\n",
    "\n",
    "testp1 = df.filter(regex='_P1$', axis=1)\n",
    "\n",
    "testp2 = df.filter(regex='_P2$', axis=1)\n",
    "\n",
    "feats = list(zip(testp1.columns, testp2.columns))\n",
    "\n",
    "for col_a, col_b in feats:\n",
    "    df[col_a + '_diff'] = df[col_a] - df[col_b]\n",
    "\n",
    "df.drop(testp1.columns, axis=1, inplace=True)\n",
    "\n",
    "df.drop(testp2.columns, axis=1, inplace=True)"
   ]
  },
  {
   "cell_type": "code",
   "execution_count": null,
   "metadata": {},
   "outputs": [],
   "source": [
    "non_numeric_columns = df.select_dtypes(['object']).columns\n",
    "\n",
    "df_numeric_only = df.drop(non_numeric_columns, axis=1)\n",
    "\n",
    "df = df_numeric_only\n",
    "\n",
    "df = df.drop(['match_id'], axis=1)\n",
    "\n",
    "df = df.fillna(df.median())\n",
    "\n",
    "\n",
    "def normalize(dff):\n",
    "    result = dff.copy()\n",
    "    for feature_name in dff.columns:\n",
    "        max_value = dff[feature_name].max()\n",
    "        min_value = dff[feature_name].min()\n",
    "        result[feature_name] = (\n",
    "            dff[feature_name] - min_value) / (max_value - min_value)\n",
    "    return result\n",
    "\n",
    "\n",
    "df = normalize(df)\n",
    "# df.info()\n",
    "df = df.fillna(df.median())"
   ]
  },
  {
   "cell_type": "code",
   "execution_count": null,
   "metadata": {},
   "outputs": [],
   "source": [
    "from sklearn.model_selection import train_test_split\n",
    "\n",
    "Y = pd.DataFrame(df['y'])\n",
    "df = df.drop(['y'], axis=1)\n",
    "X = df\n",
    "X_train, X_test, y_train, y_test = train_test_split(\n",
    "    X, Y, test_size=0.2, random_state=18, stratify=Y)"
   ]
  },
  {
   "cell_type": "code",
   "execution_count": null,
   "metadata": {},
   "outputs": [],
   "source": [
    "from sklearn.ensemble import StackingClassifier\n",
    "from sklearn.tree import DecisionTreeClassifier\n",
    "from sklearn.linear_model import LogisticRegression\n",
    "from sklearn.ensemble import AdaBoostClassifier\n",
    "\n",
    "stack = StackingClassifier(\n",
    "    estimators=[('dt', DecisionTreeClassifier(max_depth=7, max_features='log2', criterion='entropy')),\n",
    "                ('lr', LogisticRegression(C=464, solver='sag', random_state=14)),\n",
    "                ('ada', AdaBoostClassifier(n_estimators=190, learning_rate=0.2, random_state=17))],\n",
    "    final_estimator=LogisticRegression(C=464, solver='sag', random_state=14),\n",
    "    cv=5)\n",
    "\n",
    "result = stack.fit(X_train, y_train)\n",
    "\n",
    "y_pred = result.predict(X_test)\n",
    "\n",
    "\n",
    "print(classification_report(y_test, y_pred))\n",
    "\n",
    "y_pred_proba = result.predict_proba(X_test)[::, 1]\n",
    "fpr_basic, tpr_basic, _ = metrics.roc_curve(y_test,  y_pred_proba)\n",
    "auc_basic = metrics.roc_auc_score(y_test, y_pred_proba)\n",
    "print(\"AUC: \", auc_basic)"
   ]
  }
 ],
 "metadata": {
  "kernelspec": {
   "display_name": "base",
   "language": "python",
   "name": "python3"
  },
  "language_info": {
   "codemirror_mode": {
    "name": "ipython",
    "version": 3
   },
   "file_extension": ".py",
   "mimetype": "text/x-python",
   "name": "python",
   "nbconvert_exporter": "python",
   "pygments_lexer": "ipython3",
   "version": "3.9.13"
  },
  "orig_nbformat": 4
 },
 "nbformat": 4,
 "nbformat_minor": 2
}

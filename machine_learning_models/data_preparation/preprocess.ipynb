{
 "cells": [
  {
   "attachments": {},
   "cell_type": "markdown",
   "metadata": {},
   "source": [
    "# Merging the files and data cleaning\n"
   ]
  },
  {
   "cell_type": "code",
   "execution_count": null,
   "metadata": {},
   "outputs": [],
   "source": [
    "import pandas as pd\n",
    "import numpy as np\n",
    "import os\n",
    "import matplotlib.pyplot as plt\n",
    "\n",
    "\n",
    "def combine_years(where):\n",
    "    path = where\n",
    "    files = os.listdir(path)\n",
    "\n",
    "    combined_years_df = pd.concat(\n",
    "        [pd.read_csv(f'{path}/{file}') for file in files if file.endswith('.csv')], ignore_index=True)\n",
    "\n",
    "    return combined_years_df\n",
    "\n",
    "df = combine_years('db/atp')\n",
    "df.describe()"
   ]
  },
  {
   "cell_type": "code",
   "execution_count": null,
   "metadata": {},
   "outputs": [],
   "source": [
    "match_stats = ['tourney_id', 'tourney_name', 'surface', 'draw_size', 'tourney_level',\n",
    "               'tourney_date', 'match_num', 'score', 'best_of', 'round', 'minutes']\n",
    "\n",
    "winner_stats = ['winner_id', 'winner_seed', 'winner_entry', 'winner_name', 'winner_hand',\n",
    "                'winner_ht', 'winner_ioc', 'winner_age', 'winner_rank', 'winner_rank_points', 'w_ace', 'w_df', 'w_svpt', 'w_1stIn', 'w_1stWon', 'w_2ndWon', 'w_SvGms', 'w_bpSaved', 'w_bpFaced', 'w_SvGms']\n",
    "\n",
    "loser_stats = ['loser_id', 'loser_seed', 'loser_entry', 'loser_name', 'loser_hand', 'loser_ht', 'loser_ioc', 'loser_age',\n",
    "               'loser_rank', 'loser_rank_points', 'l_ace', 'l_df', 'l_svpt', 'l_1stIn', 'l_1stWon', 'l_2ndWon', 'l_SvGms', 'l_bpSaved', 'l_bpFaced']\n",
    "\n",
    "nulls_summary = pd.DataFrame(df[match_stats].isnull().any(), columns=['Nulls'])\n",
    "\n",
    "nulls_summary['Num_of_nulls [qty]'] = pd.DataFrame(df.isnull().sum())\n",
    "\n",
    "nulls_summary['Num_of_nulls [%]'] = round((df.isnull().mean()*100), 2)\n",
    "\n",
    "print(nulls_summary)\n",
    "\n"
   ]
  },
  {
   "cell_type": "markdown",
   "metadata": {},
   "source": [
    "**Cleaning**\n"
   ]
  },
  {
   "cell_type": "code",
   "execution_count": null,
   "metadata": {},
   "outputs": [],
   "source": [
    "df = df[df['best_of'] == 3]\n",
    "\n",
    "df[['winner_rank', 'loser_rank']] = df[[\n",
    "    'winner_rank', 'loser_rank']].fillna(2500)\n",
    "\n",
    "df[['winner_rank_points', 'loser_rank_points']] = df[[\n",
    "    'winner_rank_points', 'loser_rank_points']].fillna(1)\n",
    "\n",
    "df.dropna(subset=['loser_ht', 'winner_ht',\n",
    "          'loser_age', 'winner_age'], inplace=True)\n",
    "\n",
    "def replace_missing_svgms_with_estimate(df):\n",
    "    def parse_score(score):\n",
    "        try:\n",
    "            sets = score.split()\n",
    "            games_winner = 0\n",
    "            games_loser = 0\n",
    "\n",
    "            for s in sets:\n",
    "                if \"(\" in s:  \n",
    "                    s = s.split(\"(\")[0]\n",
    "                if \"-\" in s:\n",
    "                    w, l = s.split(\"-\")\n",
    "                    games_winner += int(w)\n",
    "                    games_loser += int(l)\n",
    "\n",
    "            return games_winner, games_loser\n",
    "        except:\n",
    "            return None, None\n",
    "        \n",
    "    df['games_winner'], df['games_loser'] = zip(\n",
    "        *df['score'].apply(parse_score))\n",
    "\n",
    "    df['estimated_w_SvGms'] = (df['games_winner'] + df['games_loser'] + 1) // 2\n",
    "    df['estimated_l_SvGms'] = (df['games_winner'] + df['games_loser']) // 2\n",
    "\n",
    "    df['w_SvGms'].fillna(df['estimated_w_SvGms'], inplace=True)\n",
    "    df['l_SvGms'].fillna(df['estimated_l_SvGms'], inplace=True)\n",
    "\n",
    "    df.drop(columns=['games_winner', 'games_loser',\n",
    "            'estimated_w_SvGms', 'estimated_l_SvGms'], inplace=True)\n",
    "\n",
    "    return df\n",
    "\n",
    "\n",
    "df = replace_missing_svgms_with_estimate(df)\n",
    "\n",
    "df.dropna(subset=['w_ace', 'w_df', 'l_ace', 'l_df'], inplace=True)\n",
    "\n",
    "df.drop(columns=['minutes'], inplace=True)\n",
    "\n",
    "df.dropna(subset=['winner_ht', 'loser_ht',\n",
    "                  'winner_rank', 'loser_rank', 'l_ace', 'l_df', 'w_ace'], inplace=True)\n",
    "\n",
    "df = df[df['w_df'].notnull()]\n",
    "\n",
    "df['surface'] = df['surface'].fillna('Unknown')\n",
    "\n",
    "df['tourney_level'] = df['tourney_level'].fillna('Unknown')"
   ]
  },
  {
   "attachments": {},
   "cell_type": "markdown",
   "metadata": {},
   "source": [
    "Adding index and scrambling results\n"
   ]
  },
  {
   "cell_type": "code",
   "execution_count": null,
   "metadata": {},
   "outputs": [],
   "source": [
    "from utils.features import result_scrambler\n",
    "\n",
    "df['match_id'] = df.index + 1\n",
    "\n",
    "df = result_scrambler(df)\n",
    "\n",
    "df.fillna('ffill', inplace=True)\n",
    "\n",
    "df['date'] = pd.to_datetime(df['date'], format='%Y%m%d')"
   ]
  },
  {
   "cell_type": "code",
   "execution_count": null,
   "metadata": {},
   "outputs": [],
   "source": [
    "df.to_csv('db/out/output_std.csv')"
   ]
  }
 ],
 "metadata": {
  "kernelspec": {
   "display_name": "base",
   "language": "python",
   "name": "python3"
  },
  "language_info": {
   "codemirror_mode": {
    "name": "ipython",
    "version": 3
   },
   "file_extension": ".py",
   "mimetype": "text/x-python",
   "name": "python",
   "nbconvert_exporter": "python",
   "pygments_lexer": "ipython3",
   "version": "3.12.3"
  },
  "orig_nbformat": 4
 },
 "nbformat": 4,
 "nbformat_minor": 2
}

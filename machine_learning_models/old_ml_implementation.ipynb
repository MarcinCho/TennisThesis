{
 "cells": [
  {
   "cell_type": "code",
   "execution_count": 7,
   "metadata": {},
   "outputs": [],
   "source": [
    "from sklearn.model_selection import train_test_split\n",
    "from sklearn import metrics\n",
    "from sklearn.metrics import classification_report\n",
    "from sklearn.model_selection import GroupKFold\n",
    "from sklearn.model_selection import RandomizedSearchCV\n",
    "\n",
    "from sklearn.linear_model import LogisticRegression\n",
    "from sklearn.ensemble import RandomForestClassifier\n",
    "from sklearn.ensemble import AdaBoostClassifier\n",
    "from sklearn.neural_network import MLPRegressor\n",
    "from sklearn.linear_model import LinearRegression\n",
    "from sklearn.preprocessing import PolynomialFeatures\n",
    "from sklearn.feature_selection import RFE\n",
    "from scipy.special import legendre\n",
    "from sklearn import metrics\n",
    "import pandas as pd\n",
    "import numpy as np\n",
    "import logitboost as lb\n",
    "import matplotlib.pyplot as plt\n",
    "\n",
    "import warnings\n",
    "warnings.filterwarnings('ignore')"
   ]
  },
  {
   "cell_type": "code",
   "execution_count": 2,
   "metadata": {},
   "outputs": [],
   "source": [
    "df = pd.read_csv('../db/clean_and_no_NaN/match_stats_with_wins.csv')\n",
    "\n",
    "# df = pd.read_csv('../db/clean_and_no_NaN/wta_matches_clean.csv')"
   ]
  },
  {
   "cell_type": "code",
   "execution_count": 6,
   "metadata": {},
   "outputs": [],
   "source": [
    "# ranksALL = ['match_id', 'date', 'name_P1', 'rank_points_P1', 'elo_P1',\n",
    "#             'glicko_P1', 'name_P2', 'rank_points_P2', 'elo_P2', 'glicko_P2', 'y']\n",
    "\n",
    "\n",
    "# ranksELO = ['match_id', 'date', 'name_P1',\n",
    "#             'elo_P1', 'name_P2', 'elo_P2', 'glicko_P2', 'y']\n",
    "\n",
    "\n",
    "# ranksGLICKO = ['match_id', 'date', 'name_P1',\n",
    "#                'glicko_P1', 'name_P2', 'glicko_P2', 'y']\n",
    "\n",
    "# ranksOFFICIAL = ['match_id', 'date', 'name_P1',\n",
    "#                  'name_P2', 'y', 'win_percentage_PVP_P1', 'win_percentage_PVP_P2', 'ace_probability_PVP_P1', 'ace_probability_PVP_P2']\n",
    "\n",
    "\n",
    "# df = df[ranksOFFICIAL]\n",
    "\n",
    "# print(df['name_P1'].unique())\n",
    "\n",
    "\n",
    "# df.describe()"
   ]
  },
  {
   "cell_type": "code",
   "execution_count": 3,
   "metadata": {},
   "outputs": [],
   "source": [
    "testp1 = df.filter(regex='_P1_vs$', axis=1)\n",
    "\n",
    "testp2 = df.filter(regex='_P2_vs$', axis=1)\n",
    "\n",
    "\n",
    "feats = list(zip(testp1.columns, testp2.columns))\n",
    "\n",
    "\n",
    "for col_a, col_b in feats:\n",
    "    df[col_a + '_diff'] = df[col_a] - df[col_b]\n",
    "\n",
    "df.drop(testp1.columns, axis=1, inplace=True)\n",
    "\n",
    "df.drop(testp2.columns, axis=1, inplace=True)\n",
    "\n",
    "non_numeric_columns = df.select_dtypes(['object']).columns\n",
    "\n",
    "df = df.drop(non_numeric_columns, axis=1)\n",
    "\n",
    "testp1 = df.filter(regex='_P1$', axis=1)\n",
    "\n",
    "testp2 = df.filter(regex='_P2$', axis=1)\n",
    "\n",
    "feats = list(zip(testp1.columns, testp2.columns))\n",
    "\n",
    "for col_a, col_b in feats:\n",
    "    df[col_a + '_diff'] = df[col_a] - df[col_b]\n",
    "\n",
    "df.drop(testp1.columns, axis=1, inplace=True)\n",
    "\n",
    "df.drop(testp2.columns, axis=1, inplace=True)"
   ]
  },
  {
   "cell_type": "code",
   "execution_count": 4,
   "metadata": {},
   "outputs": [
    {
     "name": "stdout",
     "output_type": "stream",
     "text": [
      "<class 'pandas.core.frame.DataFrame'>\n",
      "RangeIndex: 36041 entries, 0 to 36040\n",
      "Data columns (total 23 columns):\n",
      " #   Column                            Non-Null Count  Dtype  \n",
      "---  ------                            --------------  -----  \n",
      " 0   match_id                          36041 non-null  float64\n",
      " 1   draw_size                         36041 non-null  float64\n",
      " 2   y                                 36041 non-null  float64\n",
      " 3   rank_points_P1_diff               36041 non-null  float64\n",
      " 4   elo_P1_diff                       36041 non-null  float64\n",
      " 5   glicko_P1_diff                    36041 non-null  float64\n",
      " 6   ht_P1_diff                        36041 non-null  float64\n",
      " 7   age_P1_diff                       36041 non-null  float64\n",
      " 8   games_played_P1_diff              36041 non-null  float64\n",
      " 9   win_percentage_P1_diff            36041 non-null  float64\n",
      " 10  surface_wins_P1_diff              36041 non-null  float64\n",
      " 11  bp_factor_P1_diff                 36041 non-null  float64\n",
      " 12  first_won_serve_P1_diff           36041 non-null  float64\n",
      " 13  second_won_serve_P1_diff          36041 non-null  float64\n",
      " 14  ace_probability_P1_diff           36041 non-null  float64\n",
      " 15  double_fault_probability_P1_diff  36041 non-null  float64\n",
      " 16  aceDf_P1_diff                     36041 non-null  float64\n",
      " 17  points_on_return_P1_diff          36041 non-null  float64\n",
      " 18  serve_points_won_P1_diff          36041 non-null  float64\n",
      " 19  completeness_P1_diff              36041 non-null  float64\n",
      " 20  total_serve_points_P1_diff        36041 non-null  float64\n",
      " 21  df_probability_P1_diff            36041 non-null  float64\n",
      " 22  first_serve_return_P1_diff        36041 non-null  float64\n",
      "dtypes: float64(23)\n",
      "memory usage: 6.3 MB\n"
     ]
    }
   ],
   "source": [
    "non_numeric_columns = df.select_dtypes(['object']).columns\n",
    "\n",
    "df_numeric_only = df.drop(non_numeric_columns, axis=1)\n",
    "\n",
    "df = df_numeric_only\n",
    "\n",
    "df_numeric_only_not_normalized = df_numeric_only\n",
    "\n",
    "df = df.fillna(df.median())\n",
    "\n",
    "\n",
    "def normalize(dff):\n",
    "    result = dff.copy()\n",
    "    for feature_name in dff.columns:\n",
    "        max_value = dff[feature_name].max()\n",
    "        min_value = dff[feature_name].min()\n",
    "        result[feature_name] = (\n",
    "            dff[feature_name] - min_value) / (max_value - min_value)\n",
    "    return result\n",
    "\n",
    "\n",
    "df = normalize(df)\n",
    "df.info()"
   ]
  },
  {
   "attachments": {},
   "cell_type": "markdown",
   "metadata": {},
   "source": [
    "# Tutaj przygotowoanie danych do modelu\n"
   ]
  },
  {
   "cell_type": "code",
   "execution_count": 5,
   "metadata": {},
   "outputs": [],
   "source": [
    "Y = pd.DataFrame(df['y'])\n",
    "df = df.drop(['y'], axis=1)\n",
    "X = df\n",
    "X_train, X_test, y_train, y_test = train_test_split(\n",
    "    X, Y, test_size=0.2, random_state=18, stratify=Y)"
   ]
  },
  {
   "attachments": {},
   "cell_type": "markdown",
   "metadata": {},
   "source": [
    "Logistic Regression\n"
   ]
  },
  {
   "cell_type": "code",
   "execution_count": 16,
   "metadata": {},
   "outputs": [
    {
     "name": "stdout",
     "output_type": "stream",
     "text": [
      "Fitting 10 folds for each of 10 candidates, totalling 100 fits\n",
      "Best Score: 0.6795933452738157\n",
      "Best Hyperparameters: {'solver': 'newton-cg', 'penalty': 'l2', 'C': 464.15888336127773}\n"
     ]
    }
   ],
   "source": [
    "# Define model\n",
    "model = LogisticRegression()\n",
    "# model = RFE(model, n_features_to_select=5, step=1)\n",
    "\n",
    "param_grid = {\n",
    "    'C': np.logspace(0, 4, num=10),\n",
    "    'penalty': ['l1', 'l2'],\n",
    "    'solver': ['liblinear', 'sag', 'newton-cg']\n",
    "}\n",
    "\n",
    "search = RandomizedSearchCV(model, param_grid, n_iter=10,\n",
    "                            cv=10, scoring='accuracy', n_jobs=-1, random_state=1, verbose=2)\n",
    "\n",
    "result = search.fit(X_train, y_train)\n",
    "\n",
    "print('Best Score: %s' % result.best_score_)\n",
    "print('Best Hyperparameters: %s' % result.best_params_)\n",
    "best_random = result.best_estimator_\n",
    "\n",
    "y_pred_test = best_random.predict(X_test)\n",
    "print(classification_report(y_test, y_pred_test))"
   ]
  },
  {
   "cell_type": "code",
   "execution_count": 35,
   "metadata": {},
   "outputs": [
    {
     "name": "stdout",
     "output_type": "stream",
     "text": [
      "              precision    recall  f1-score   support\n",
      "\n",
      "         0.0       0.68      0.66      0.67      3547\n",
      "         1.0       0.68      0.70      0.69      3662\n",
      "\n",
      "    accuracy                           0.68      7209\n",
      "   macro avg       0.68      0.68      0.68      7209\n",
      "weighted avg       0.68      0.68      0.68      7209\n",
      "\n"
     ]
    }
   ],
   "source": [
    "# Prediction with best model from random search"
   ]
  },
  {
   "attachments": {},
   "cell_type": "markdown",
   "metadata": {},
   "source": [
    "Drzewo decyzyjne\n"
   ]
  },
  {
   "cell_type": "code",
   "execution_count": 10,
   "metadata": {},
   "outputs": [
    {
     "name": "stdout",
     "output_type": "stream",
     "text": [
      "Fitting 10 folds for each of 15 candidates, totalling 150 fits\n",
      "Best Score: 0.6593030044120131\n",
      "Best Hyperparameters: {'max_features': 'log2', 'max_depth': 5}\n"
     ]
    },
    {
     "ename": "",
     "evalue": "",
     "output_type": "error",
     "traceback": [
      "\u001b[1;31mThe Kernel crashed while executing code in the the current cell or a previous cell. Please review the code in the cell(s) to identify a possible cause of the failure. Click <a href='https://aka.ms/vscodeJupyterKernelCrash'>here</a> for more info. View Jupyter <a href='command:jupyter.viewOutput'>log</a> for further details."
     ]
    }
   ],
   "source": [
    "from sklearn.tree import DecisionTreeClassifier\n",
    "\n",
    "# Define model\n",
    "model = DecisionTreeClassifier(max_depth=10, random_state=75)\n",
    "\n",
    "\n",
    "param_grid = {\n",
    "    'max_depth': list(range(5, 20, 1)),\n",
    "    'max_features': ['auto', 'sqrt', 'log2']\n",
    "}\n",
    "\n",
    "search = RandomizedSearchCV(model, param_grid, n_iter=15,\n",
    "                            cv=10, scoring='accuracy', n_jobs=-1, random_state=1, verbose=2)\n",
    "\n",
    "# search = RFE(model, n_features_to_select=5, step=1)\n",
    "\n",
    "# execute search\n",
    "result = search.fit(X_train, y_train)\n",
    "# summarize result\n",
    "print('Best Score: %s' % result.best_score_)\n",
    "print('Best Hyperparameters: %s' % result.best_params_)"
   ]
  },
  {
   "cell_type": "code",
   "execution_count": 25,
   "metadata": {},
   "outputs": [],
   "source": [
    "from sklearn.tree import export_graphviz\n",
    "\n",
    "export_graphviz(model, out_file='tree.dot',\n",
    "                feature_names=X_train.columns, class_names=['0', '1'], rounded=True, filled=True)"
   ]
  },
  {
   "cell_type": "code",
   "execution_count": 28,
   "metadata": {},
   "outputs": [],
   "source": [
    "# from graphviz import Source\n",
    "\n",
    "# Source.from_file('tree.dot')"
   ]
  },
  {
   "cell_type": "code",
   "execution_count": 24,
   "metadata": {},
   "outputs": [
    {
     "name": "stdout",
     "output_type": "stream",
     "text": [
      "              precision    recall  f1-score   support\n",
      "\n",
      "         0.0       0.66      0.65      0.65      3547\n",
      "         1.0       0.66      0.67      0.67      3662\n",
      "\n",
      "    accuracy                           0.66      7209\n",
      "   macro avg       0.66      0.66      0.66      7209\n",
      "weighted avg       0.66      0.66      0.66      7209\n",
      "\n"
     ]
    }
   ],
   "source": [
    "# Prediction with best model from random search\n",
    "# best_random = result.best_estimator_\n",
    "\n",
    "y_pred_test = model.predict(X_test)\n",
    "print(classification_report(y_test, y_pred_test))"
   ]
  },
  {
   "attachments": {},
   "cell_type": "markdown",
   "metadata": {},
   "source": [
    "Las losowy\n"
   ]
  },
  {
   "cell_type": "code",
   "execution_count": 29,
   "metadata": {},
   "outputs": [
    {
     "name": "stdout",
     "output_type": "stream",
     "text": [
      "Fitting 10 folds for each of 15 candidates, totalling 150 fits\n",
      "Best Score: 0.6794543723958371\n",
      "Best Hyperparameters: {'n_estimators': 180, 'max_depth': 9, 'criterion': 'gini'}\n"
     ]
    }
   ],
   "source": [
    "model = RandomForestClassifier()\n",
    "\n",
    "# define evaluation\n",
    "# gkf = GroupKFold(n_splits=3) if not spec as cv= in the randomized search default is 5 fold cv\n",
    "\n",
    "# define search space\n",
    "param_grid = {\n",
    "    'max_depth': list(range(5, 25, 2)),\n",
    "    'n_estimators': list(range(80, 200, 10)),\n",
    "    'criterion': ['gini', 'entropy'],\n",
    "}\n",
    "\n",
    "search = RandomizedSearchCV(model, param_grid, n_iter=15,\n",
    "                            cv=10, scoring='accuracy', n_jobs=-1, random_state=1, verbose=2)\n",
    "\n",
    "# execute search\n",
    "result = search.fit(X_train, y_train)\n",
    "# summarize result\n",
    "print('Best Score: %s' % result.best_score_)\n",
    "print('Best Hyperparameters: %s' % result.best_params_)"
   ]
  },
  {
   "cell_type": "code",
   "execution_count": 30,
   "metadata": {},
   "outputs": [
    {
     "name": "stdout",
     "output_type": "stream",
     "text": [
      "              precision    recall  f1-score   support\n",
      "\n",
      "         0.0       0.68      0.68      0.68      3547\n",
      "         1.0       0.69      0.69      0.69      3662\n",
      "\n",
      "    accuracy                           0.68      7209\n",
      "   macro avg       0.68      0.68      0.68      7209\n",
      "weighted avg       0.68      0.68      0.68      7209\n",
      "\n"
     ]
    }
   ],
   "source": [
    "# Prediction with best model from random search\n",
    "best_random = result.best_estimator_\n",
    "\n",
    "y_pred_test = best_random.predict(X_test)\n",
    "print(classification_report(y_test, y_pred_test))"
   ]
  },
  {
   "attachments": {},
   "cell_type": "markdown",
   "metadata": {},
   "source": [
    "ADABoost\n"
   ]
  },
  {
   "cell_type": "code",
   "execution_count": 20,
   "metadata": {},
   "outputs": [
    {
     "name": "stdout",
     "output_type": "stream",
     "text": [
      "Fitting 10 folds for each of 5 candidates, totalling 50 fits\n",
      "Best Score: 0.6776853216256953\n",
      "Best Hyperparameters: {'n_estimators': 120}\n"
     ]
    }
   ],
   "source": [
    "model = AdaBoostClassifier()\n",
    "\n",
    "# define evaluation\n",
    "# gkf = GroupKFold(n_splits=3) if not spec as cv= in the randomized search default is 5 fold cv\n",
    "\n",
    "# define search space\n",
    "param_grid = {\n",
    "    'n_estimators': list(range(80, 200, 10))\n",
    "}\n",
    "\n",
    "search = RandomizedSearchCV(model, param_grid, n_iter=5,\n",
    "                            cv=10, scoring='accuracy', n_jobs=-1, random_state=1, verbose=2)\n",
    "\n",
    "# execute search\n",
    "result = search.fit(X_train, y_train)\n",
    "# summarize result\n",
    "print('Best Score: %s' % result.best_score_)\n",
    "print('Best Hyperparameters: %s' % result.best_params_)"
   ]
  },
  {
   "cell_type": "code",
   "execution_count": 21,
   "metadata": {},
   "outputs": [
    {
     "name": "stdout",
     "output_type": "stream",
     "text": [
      "              precision    recall  f1-score   support\n",
      "\n",
      "         0.0       0.67      0.67      0.67      3547\n",
      "         1.0       0.68      0.68      0.68      3662\n",
      "\n",
      "    accuracy                           0.68      7209\n",
      "   macro avg       0.68      0.68      0.68      7209\n",
      "weighted avg       0.68      0.68      0.68      7209\n",
      "\n"
     ]
    }
   ],
   "source": [
    "# Prediction with best model from random search\n",
    "best_random = result.best_estimator_\n",
    "\n",
    "y_pred_test = best_random.predict(X_test)\n",
    "print(classification_report(y_test, y_pred_test))"
   ]
  },
  {
   "attachments": {},
   "cell_type": "markdown",
   "metadata": {},
   "source": [
    "# Logit boost\n"
   ]
  },
  {
   "cell_type": "code",
   "execution_count": 22,
   "metadata": {},
   "outputs": [
    {
     "name": "stdout",
     "output_type": "stream",
     "text": [
      "Best Score: 0.6776161418771767\n",
      "Best Hyperparameters: {'n_estimators': 100}\n"
     ]
    }
   ],
   "source": [
    "model = lb.LogitBoost()\n",
    "\n",
    "# define search space\n",
    "param_grid = {'n_estimators': list(range(80, 200, 10))\n",
    "              }\n",
    "\n",
    "search = RandomizedSearchCV(model, param_grid, n_iter=5,\n",
    "                            cv=10, scoring='accuracy', n_jobs=-1, random_state=1)\n",
    "\n",
    "# execute search\n",
    "result = search.fit(X_train, y_train)\n",
    "# summarize result\n",
    "print('Best Score: %s' % result.best_score_)\n",
    "print('Best Hyperparameters: %s' % result.best_params_)"
   ]
  },
  {
   "cell_type": "code",
   "execution_count": 23,
   "metadata": {},
   "outputs": [
    {
     "name": "stdout",
     "output_type": "stream",
     "text": [
      "              precision    recall  f1-score   support\n",
      "\n",
      "         0.0       0.67      0.67      0.67      3547\n",
      "         1.0       0.68      0.68      0.68      3662\n",
      "\n",
      "    accuracy                           0.67      7209\n",
      "   macro avg       0.67      0.67      0.67      7209\n",
      "weighted avg       0.67      0.67      0.67      7209\n",
      "\n"
     ]
    }
   ],
   "source": [
    "# Prediction with best model from random search\n",
    "best_random = result.best_estimator_\n",
    "\n",
    "y_pred_test = best_random.predict(X_test)\n",
    "print(classification_report(y_test, y_pred_test))"
   ]
  },
  {
   "cell_type": "markdown",
   "metadata": {},
   "source": [
    "# SVM\n"
   ]
  },
  {
   "cell_type": "code",
   "execution_count": 9,
   "metadata": {},
   "outputs": [
    {
     "name": "stdout",
     "output_type": "stream",
     "text": [
      "Accuracy: 0.6792897766680538\n"
     ]
    }
   ],
   "source": [
    "from sklearn import metrics\n",
    "from sklearn import svm\n",
    "\n",
    "# Create a svm Classifier\n",
    "model = svm.SVC(kernel='linear')  # Linear Kernel\n",
    "\n",
    "# Train the model using the training sets\n",
    "\n",
    "param_grid = {'C': [0.1, 1, 10, 100, 1000],\n",
    "              'gamma': [1, 0.1, 0.01, 0.001, 0.0001],\n",
    "              'kernel': ['rbf']}\n",
    "\n",
    "\n",
    "search = RandomizedSearchCV(model, param_grid, n_iter=5,\n",
    "                            cv=10, scoring='accuracy', n_jobs=-1, random_state=1)\n",
    "\n",
    "# execute search\n",
    "result = search.fit(X_train, y_train)\n",
    "# summarize result\n",
    "print('Best Score: %s' % result.best_score_)\n",
    "print('Best Hyperparameters: %s' % result.best_params_)"
   ]
  },
  {
   "attachments": {},
   "cell_type": "markdown",
   "metadata": {},
   "source": [
    "# ANN\n"
   ]
  },
  {
   "cell_type": "code",
   "execution_count": 21,
   "metadata": {},
   "outputs": [
    {
     "name": "stdout",
     "output_type": "stream",
     "text": [
      "Model: \"sequential_13\"\n",
      "_________________________________________________________________\n",
      " Layer (type)                Output Shape              Param #   \n",
      "=================================================================\n",
      " dense_24 (Dense)            (None, 300)               6900      \n",
      "                                                                 \n",
      " dropout_12 (Dropout)        (None, 300)               0         \n",
      "                                                                 \n",
      " dense_25 (Dense)            (None, 100)               30100     \n",
      "                                                                 \n",
      " dropout_13 (Dropout)        (None, 100)               0         \n",
      "                                                                 \n",
      " dense_26 (Dense)            (None, 100)               10100     \n",
      "                                                                 \n",
      " dropout_14 (Dropout)        (None, 100)               0         \n",
      "                                                                 \n",
      " dense_27 (Dense)            (None, 1)                 101       \n",
      "                                                                 \n",
      "=================================================================\n",
      "Total params: 47,201\n",
      "Trainable params: 47,201\n",
      "Non-trainable params: 0\n",
      "_________________________________________________________________\n"
     ]
    }
   ],
   "source": [
    "# import tensorflow\n",
    "import tensorflow as tf\n",
    "from tensorflow import keras\n",
    "from keras import Sequential\n",
    "from keras import Input\n",
    "from keras.layers import Dropout\n",
    "from keras.layers import Dense\n",
    "from keras.callbacks import History\n",
    "\n",
    "history = History()\n",
    "\n",
    "# use keras API\n",
    "tf.random.set_seed(49)\n",
    "model = tf.keras.Sequential()\n",
    "\n",
    "# determine the number of input features\n",
    "n_features = X_train.shape[1]\n",
    "# define model\n",
    "model = Sequential()\n",
    "model.add(Input(shape=X_train.shape[1]))\n",
    "model.add(Dense(300, activation='relu', kernel_initializer='he_normal'))\n",
    "model.add(Dropout(0.4))\n",
    "model.add(Dense(200, activation='relu', kernel_initializer='he_normal'))\n",
    "model.add(Dense(100, activation='relu', kernel_initializer='he_normal'))\n",
    "model.add(Dropout(0.6))\n",
    "model.add(Dense(100, activation='relu', kernel_initializer='he_normal'))\n",
    "model.add(Dropout(0.6))\n",
    "model.add(Dense(1, activation='sigmoid'))\n",
    "model.summary()"
   ]
  },
  {
   "cell_type": "code",
   "execution_count": 25,
   "metadata": {},
   "outputs": [
    {
     "name": "stdout",
     "output_type": "stream",
     "text": [
      "Epoch 1/100\n",
      "181/181 [==============================] - 1s 4ms/step - loss: 0.6295 - accuracy: 0.6509 - val_loss: 0.6130 - val_accuracy: 0.6761\n",
      "Epoch 2/100\n",
      "181/181 [==============================] - 1s 3ms/step - loss: 0.6299 - accuracy: 0.6481 - val_loss: 0.6144 - val_accuracy: 0.6754\n",
      "Epoch 3/100\n",
      "181/181 [==============================] - 1s 3ms/step - loss: 0.6255 - accuracy: 0.6550 - val_loss: 0.6160 - val_accuracy: 0.6728\n",
      "Epoch 4/100\n",
      "181/181 [==============================] - 1s 3ms/step - loss: 0.6285 - accuracy: 0.6476 - val_loss: 0.6160 - val_accuracy: 0.6731\n",
      "Epoch 5/100\n",
      "181/181 [==============================] - 1s 3ms/step - loss: 0.6272 - accuracy: 0.6517 - val_loss: 0.6143 - val_accuracy: 0.6735\n",
      "Epoch 6/100\n",
      "181/181 [==============================] - 1s 3ms/step - loss: 0.6266 - accuracy: 0.6523 - val_loss: 0.6133 - val_accuracy: 0.6775\n",
      "Epoch 7/100\n",
      "181/181 [==============================] - 1s 3ms/step - loss: 0.6282 - accuracy: 0.6507 - val_loss: 0.6129 - val_accuracy: 0.6761\n",
      "Epoch 8/100\n",
      "181/181 [==============================] - 1s 3ms/step - loss: 0.6288 - accuracy: 0.6486 - val_loss: 0.6142 - val_accuracy: 0.6752\n",
      "Epoch 9/100\n",
      "181/181 [==============================] - 1s 3ms/step - loss: 0.6265 - accuracy: 0.6537 - val_loss: 0.6137 - val_accuracy: 0.6752\n",
      "Epoch 10/100\n",
      "181/181 [==============================] - 1s 3ms/step - loss: 0.6280 - accuracy: 0.6529 - val_loss: 0.6132 - val_accuracy: 0.6785\n",
      "Epoch 11/100\n",
      "181/181 [==============================] - 1s 4ms/step - loss: 0.6261 - accuracy: 0.6512 - val_loss: 0.6134 - val_accuracy: 0.6757\n",
      "Epoch 12/100\n",
      "181/181 [==============================] - 1s 3ms/step - loss: 0.6256 - accuracy: 0.6516 - val_loss: 0.6139 - val_accuracy: 0.6754\n",
      "Epoch 13/100\n",
      "181/181 [==============================] - 1s 3ms/step - loss: 0.6240 - accuracy: 0.6522 - val_loss: 0.6150 - val_accuracy: 0.6724\n",
      "Epoch 14/100\n",
      "181/181 [==============================] - 1s 4ms/step - loss: 0.6274 - accuracy: 0.6523 - val_loss: 0.6137 - val_accuracy: 0.6759\n",
      "Epoch 15/100\n",
      "181/181 [==============================] - 1s 4ms/step - loss: 0.6270 - accuracy: 0.6488 - val_loss: 0.6129 - val_accuracy: 0.6761\n",
      "Epoch 16/100\n",
      "181/181 [==============================] - 1s 3ms/step - loss: 0.6253 - accuracy: 0.6525 - val_loss: 0.6142 - val_accuracy: 0.6749\n",
      "Epoch 17/100\n",
      "181/181 [==============================] - 1s 3ms/step - loss: 0.6258 - accuracy: 0.6503 - val_loss: 0.6125 - val_accuracy: 0.6747\n",
      "Epoch 18/100\n",
      "181/181 [==============================] - 1s 3ms/step - loss: 0.6260 - accuracy: 0.6547 - val_loss: 0.6125 - val_accuracy: 0.6745\n",
      "Epoch 19/100\n",
      "181/181 [==============================] - 1s 3ms/step - loss: 0.6244 - accuracy: 0.6499 - val_loss: 0.6107 - val_accuracy: 0.6766\n",
      "Epoch 20/100\n",
      "181/181 [==============================] - 1s 3ms/step - loss: 0.6245 - accuracy: 0.6548 - val_loss: 0.6124 - val_accuracy: 0.6756\n",
      "Epoch 21/100\n",
      "181/181 [==============================] - 1s 3ms/step - loss: 0.6269 - accuracy: 0.6526 - val_loss: 0.6124 - val_accuracy: 0.6759\n",
      "Epoch 22/100\n",
      "181/181 [==============================] - 1s 3ms/step - loss: 0.6249 - accuracy: 0.6549 - val_loss: 0.6131 - val_accuracy: 0.6749\n",
      "Epoch 23/100\n",
      "181/181 [==============================] - 1s 4ms/step - loss: 0.6234 - accuracy: 0.6535 - val_loss: 0.6112 - val_accuracy: 0.6757\n",
      "Epoch 24/100\n",
      "181/181 [==============================] - 1s 3ms/step - loss: 0.6242 - accuracy: 0.6541 - val_loss: 0.6115 - val_accuracy: 0.6763\n",
      "Epoch 25/100\n",
      "181/181 [==============================] - 1s 3ms/step - loss: 0.6226 - accuracy: 0.6564 - val_loss: 0.6123 - val_accuracy: 0.6771\n",
      "Epoch 26/100\n",
      "181/181 [==============================] - 1s 4ms/step - loss: 0.6233 - accuracy: 0.6567 - val_loss: 0.6118 - val_accuracy: 0.6764\n",
      "Epoch 27/100\n",
      "181/181 [==============================] - 1s 4ms/step - loss: 0.6209 - accuracy: 0.6584 - val_loss: 0.6123 - val_accuracy: 0.6757\n",
      "Epoch 28/100\n",
      "181/181 [==============================] - 1s 4ms/step - loss: 0.6228 - accuracy: 0.6570 - val_loss: 0.6119 - val_accuracy: 0.6770\n",
      "Epoch 29/100\n",
      "181/181 [==============================] - 1s 4ms/step - loss: 0.6245 - accuracy: 0.6568 - val_loss: 0.6115 - val_accuracy: 0.6759\n",
      "Epoch 30/100\n",
      "181/181 [==============================] - 1s 4ms/step - loss: 0.6218 - accuracy: 0.6572 - val_loss: 0.6121 - val_accuracy: 0.6761\n",
      "Epoch 31/100\n",
      "181/181 [==============================] - 1s 4ms/step - loss: 0.6209 - accuracy: 0.6583 - val_loss: 0.6092 - val_accuracy: 0.6766\n",
      "Epoch 32/100\n",
      "181/181 [==============================] - 1s 4ms/step - loss: 0.6237 - accuracy: 0.6531 - val_loss: 0.6099 - val_accuracy: 0.6766\n",
      "Epoch 33/100\n",
      "181/181 [==============================] - 1s 4ms/step - loss: 0.6211 - accuracy: 0.6579 - val_loss: 0.6114 - val_accuracy: 0.6750\n",
      "Epoch 34/100\n",
      "181/181 [==============================] - 1s 4ms/step - loss: 0.6203 - accuracy: 0.6583 - val_loss: 0.6083 - val_accuracy: 0.6799\n",
      "Epoch 35/100\n",
      "181/181 [==============================] - 1s 4ms/step - loss: 0.6192 - accuracy: 0.6564 - val_loss: 0.6104 - val_accuracy: 0.6773\n",
      "Epoch 36/100\n",
      "181/181 [==============================] - 1s 4ms/step - loss: 0.6216 - accuracy: 0.6571 - val_loss: 0.6105 - val_accuracy: 0.6756\n",
      "Epoch 37/100\n",
      "181/181 [==============================] - 1s 4ms/step - loss: 0.6217 - accuracy: 0.6557 - val_loss: 0.6123 - val_accuracy: 0.6724\n",
      "Epoch 38/100\n",
      "181/181 [==============================] - 1s 4ms/step - loss: 0.6185 - accuracy: 0.6578 - val_loss: 0.6107 - val_accuracy: 0.6756\n",
      "Epoch 39/100\n",
      "181/181 [==============================] - 1s 4ms/step - loss: 0.6232 - accuracy: 0.6585 - val_loss: 0.6121 - val_accuracy: 0.6745\n",
      "Epoch 40/100\n",
      "181/181 [==============================] - 1s 4ms/step - loss: 0.6199 - accuracy: 0.6617 - val_loss: 0.6095 - val_accuracy: 0.6780\n",
      "Epoch 41/100\n",
      "181/181 [==============================] - 1s 4ms/step - loss: 0.6213 - accuracy: 0.6572 - val_loss: 0.6088 - val_accuracy: 0.6775\n",
      "Epoch 42/100\n",
      "181/181 [==============================] - 1s 4ms/step - loss: 0.6201 - accuracy: 0.6577 - val_loss: 0.6084 - val_accuracy: 0.6775\n",
      "Epoch 43/100\n",
      "181/181 [==============================] - 1s 4ms/step - loss: 0.6201 - accuracy: 0.6572 - val_loss: 0.6080 - val_accuracy: 0.6789\n",
      "Epoch 44/100\n",
      "181/181 [==============================] - 1s 5ms/step - loss: 0.6204 - accuracy: 0.6604 - val_loss: 0.6108 - val_accuracy: 0.6756\n",
      "Epoch 45/100\n",
      "181/181 [==============================] - 1s 4ms/step - loss: 0.6223 - accuracy: 0.6575 - val_loss: 0.6084 - val_accuracy: 0.6796\n",
      "Epoch 46/100\n",
      "181/181 [==============================] - 1s 4ms/step - loss: 0.6198 - accuracy: 0.6587 - val_loss: 0.6080 - val_accuracy: 0.6797\n",
      "Epoch 47/100\n",
      "181/181 [==============================] - 1s 4ms/step - loss: 0.6193 - accuracy: 0.6590 - val_loss: 0.6082 - val_accuracy: 0.6789\n",
      "Epoch 48/100\n",
      "181/181 [==============================] - 1s 4ms/step - loss: 0.6189 - accuracy: 0.6615 - val_loss: 0.6080 - val_accuracy: 0.6794\n",
      "Epoch 49/100\n",
      "181/181 [==============================] - 1s 4ms/step - loss: 0.6212 - accuracy: 0.6601 - val_loss: 0.6080 - val_accuracy: 0.6799\n",
      "Epoch 50/100\n",
      "181/181 [==============================] - 1s 4ms/step - loss: 0.6196 - accuracy: 0.6590 - val_loss: 0.6080 - val_accuracy: 0.6797\n",
      "Epoch 51/100\n",
      "181/181 [==============================] - 1s 4ms/step - loss: 0.6195 - accuracy: 0.6613 - val_loss: 0.6093 - val_accuracy: 0.6790\n",
      "Epoch 52/100\n",
      "181/181 [==============================] - 1s 4ms/step - loss: 0.6187 - accuracy: 0.6603 - val_loss: 0.6087 - val_accuracy: 0.6801\n",
      "Epoch 53/100\n",
      "181/181 [==============================] - 1s 4ms/step - loss: 0.6170 - accuracy: 0.6630 - val_loss: 0.6097 - val_accuracy: 0.6763\n",
      "Epoch 54/100\n",
      "181/181 [==============================] - 1s 5ms/step - loss: 0.6199 - accuracy: 0.6581 - val_loss: 0.6102 - val_accuracy: 0.6763\n",
      "Epoch 55/100\n",
      "181/181 [==============================] - 1s 4ms/step - loss: 0.6172 - accuracy: 0.6631 - val_loss: 0.6099 - val_accuracy: 0.6764\n",
      "Epoch 56/100\n",
      "181/181 [==============================] - 1s 5ms/step - loss: 0.6184 - accuracy: 0.6596 - val_loss: 0.6088 - val_accuracy: 0.6794\n",
      "Epoch 57/100\n",
      "181/181 [==============================] - 1s 5ms/step - loss: 0.6178 - accuracy: 0.6633 - val_loss: 0.6104 - val_accuracy: 0.6766\n",
      "Epoch 58/100\n",
      "181/181 [==============================] - 1s 4ms/step - loss: 0.6161 - accuracy: 0.6607 - val_loss: 0.6089 - val_accuracy: 0.6787\n",
      "Epoch 59/100\n",
      "181/181 [==============================] - 1s 4ms/step - loss: 0.6162 - accuracy: 0.6630 - val_loss: 0.6108 - val_accuracy: 0.6744\n",
      "Epoch 60/100\n",
      "181/181 [==============================] - 1s 5ms/step - loss: 0.6155 - accuracy: 0.6657 - val_loss: 0.6084 - val_accuracy: 0.6782\n",
      "Epoch 61/100\n",
      "181/181 [==============================] - 1s 4ms/step - loss: 0.6194 - accuracy: 0.6598 - val_loss: 0.6092 - val_accuracy: 0.6789\n",
      "Epoch 62/100\n",
      "181/181 [==============================] - 1s 4ms/step - loss: 0.6174 - accuracy: 0.6592 - val_loss: 0.6075 - val_accuracy: 0.6797\n",
      "Epoch 63/100\n",
      "181/181 [==============================] - 1s 4ms/step - loss: 0.6189 - accuracy: 0.6574 - val_loss: 0.6072 - val_accuracy: 0.6822\n",
      "Epoch 64/100\n",
      "181/181 [==============================] - 1s 4ms/step - loss: 0.6197 - accuracy: 0.6596 - val_loss: 0.6078 - val_accuracy: 0.6825\n",
      "Epoch 65/100\n",
      "181/181 [==============================] - 1s 5ms/step - loss: 0.6182 - accuracy: 0.6632 - val_loss: 0.6083 - val_accuracy: 0.6794\n",
      "Epoch 66/100\n",
      "181/181 [==============================] - 1s 5ms/step - loss: 0.6187 - accuracy: 0.6593 - val_loss: 0.6083 - val_accuracy: 0.6804\n",
      "Epoch 67/100\n",
      "181/181 [==============================] - 1s 5ms/step - loss: 0.6185 - accuracy: 0.6640 - val_loss: 0.6084 - val_accuracy: 0.6789\n",
      "Epoch 68/100\n",
      "181/181 [==============================] - 1s 5ms/step - loss: 0.6179 - accuracy: 0.6613 - val_loss: 0.6092 - val_accuracy: 0.6796\n",
      "Epoch 69/100\n",
      "181/181 [==============================] - 1s 5ms/step - loss: 0.6181 - accuracy: 0.6634 - val_loss: 0.6082 - val_accuracy: 0.6792\n",
      "Epoch 70/100\n",
      "181/181 [==============================] - 1s 4ms/step - loss: 0.6158 - accuracy: 0.6623 - val_loss: 0.6076 - val_accuracy: 0.6799\n",
      "Epoch 71/100\n",
      "181/181 [==============================] - 1s 5ms/step - loss: 0.6151 - accuracy: 0.6621 - val_loss: 0.6056 - val_accuracy: 0.6822\n",
      "Epoch 72/100\n",
      "181/181 [==============================] - 1s 5ms/step - loss: 0.6167 - accuracy: 0.6650 - val_loss: 0.6072 - val_accuracy: 0.6790\n",
      "Epoch 73/100\n",
      "181/181 [==============================] - 1s 5ms/step - loss: 0.6171 - accuracy: 0.6632 - val_loss: 0.6072 - val_accuracy: 0.6808\n",
      "Epoch 74/100\n",
      "181/181 [==============================] - 1s 5ms/step - loss: 0.6149 - accuracy: 0.6613 - val_loss: 0.6077 - val_accuracy: 0.6794\n",
      "Epoch 75/100\n",
      "181/181 [==============================] - 1s 4ms/step - loss: 0.6186 - accuracy: 0.6595 - val_loss: 0.6085 - val_accuracy: 0.6792\n",
      "Epoch 76/100\n",
      "181/181 [==============================] - 1s 5ms/step - loss: 0.6157 - accuracy: 0.6631 - val_loss: 0.6078 - val_accuracy: 0.6792\n",
      "Epoch 77/100\n",
      "181/181 [==============================] - 1s 4ms/step - loss: 0.6146 - accuracy: 0.6632 - val_loss: 0.6064 - val_accuracy: 0.6811\n",
      "Epoch 78/100\n",
      "181/181 [==============================] - 1s 5ms/step - loss: 0.6161 - accuracy: 0.6606 - val_loss: 0.6068 - val_accuracy: 0.6799\n",
      "Epoch 79/100\n",
      "181/181 [==============================] - 1s 6ms/step - loss: 0.6156 - accuracy: 0.6634 - val_loss: 0.6067 - val_accuracy: 0.6799\n",
      "Epoch 80/100\n",
      "181/181 [==============================] - 1s 5ms/step - loss: 0.6160 - accuracy: 0.6645 - val_loss: 0.6069 - val_accuracy: 0.6797\n",
      "Epoch 81/100\n",
      "181/181 [==============================] - 1s 5ms/step - loss: 0.6161 - accuracy: 0.6633 - val_loss: 0.6078 - val_accuracy: 0.6794\n",
      "Epoch 82/100\n",
      "181/181 [==============================] - 1s 5ms/step - loss: 0.6158 - accuracy: 0.6634 - val_loss: 0.6050 - val_accuracy: 0.6820\n",
      "Epoch 83/100\n",
      "181/181 [==============================] - 1s 5ms/step - loss: 0.6146 - accuracy: 0.6626 - val_loss: 0.6074 - val_accuracy: 0.6794\n",
      "Epoch 84/100\n",
      "181/181 [==============================] - 1s 4ms/step - loss: 0.6145 - accuracy: 0.6601 - val_loss: 0.6076 - val_accuracy: 0.6801\n",
      "Epoch 85/100\n",
      "181/181 [==============================] - 1s 4ms/step - loss: 0.6153 - accuracy: 0.6672 - val_loss: 0.6087 - val_accuracy: 0.6785\n",
      "Epoch 86/100\n",
      "181/181 [==============================] - 1s 4ms/step - loss: 0.6140 - accuracy: 0.6641 - val_loss: 0.6063 - val_accuracy: 0.6820\n",
      "Epoch 87/100\n",
      "181/181 [==============================] - 1s 4ms/step - loss: 0.6130 - accuracy: 0.6671 - val_loss: 0.6059 - val_accuracy: 0.6827\n",
      "Epoch 88/100\n",
      "181/181 [==============================] - 1s 4ms/step - loss: 0.6155 - accuracy: 0.6629 - val_loss: 0.6074 - val_accuracy: 0.6804\n",
      "Epoch 89/100\n",
      "181/181 [==============================] - 1s 4ms/step - loss: 0.6161 - accuracy: 0.6606 - val_loss: 0.6075 - val_accuracy: 0.6813\n",
      "Epoch 90/100\n",
      "181/181 [==============================] - 1s 5ms/step - loss: 0.6156 - accuracy: 0.6637 - val_loss: 0.6076 - val_accuracy: 0.6808\n",
      "Epoch 91/100\n",
      "181/181 [==============================] - 1s 4ms/step - loss: 0.6139 - accuracy: 0.6639 - val_loss: 0.6078 - val_accuracy: 0.6799\n",
      "Epoch 92/100\n",
      "181/181 [==============================] - 1s 5ms/step - loss: 0.6156 - accuracy: 0.6607 - val_loss: 0.6097 - val_accuracy: 0.6782\n",
      "Epoch 93/100\n",
      "181/181 [==============================] - 1s 4ms/step - loss: 0.6151 - accuracy: 0.6629 - val_loss: 0.6080 - val_accuracy: 0.6790\n",
      "Epoch 94/100\n",
      "181/181 [==============================] - 1s 4ms/step - loss: 0.6160 - accuracy: 0.6642 - val_loss: 0.6062 - val_accuracy: 0.6830\n",
      "Epoch 95/100\n",
      "181/181 [==============================] - 1s 4ms/step - loss: 0.6176 - accuracy: 0.6629 - val_loss: 0.6087 - val_accuracy: 0.6808\n",
      "Epoch 96/100\n",
      "181/181 [==============================] - 1s 5ms/step - loss: 0.6146 - accuracy: 0.6653 - val_loss: 0.6047 - val_accuracy: 0.6861\n",
      "Epoch 97/100\n",
      "181/181 [==============================] - 1s 5ms/step - loss: 0.6134 - accuracy: 0.6649 - val_loss: 0.6073 - val_accuracy: 0.6801\n",
      "Epoch 98/100\n",
      "181/181 [==============================] - 1s 4ms/step - loss: 0.6143 - accuracy: 0.6666 - val_loss: 0.6045 - val_accuracy: 0.6860\n",
      "Epoch 99/100\n",
      "181/181 [==============================] - 1s 5ms/step - loss: 0.6135 - accuracy: 0.6673 - val_loss: 0.6082 - val_accuracy: 0.6794\n",
      "Epoch 100/100\n",
      "181/181 [==============================] - 1s 4ms/step - loss: 0.6151 - accuracy: 0.6619 - val_loss: 0.6078 - val_accuracy: 0.6811\n",
      "226/226 [==============================] - 0s 1ms/step - loss: 0.6104 - accuracy: 0.6743\n"
     ]
    }
   ],
   "source": [
    "model.compile(optimizer='sgd',\n",
    "              loss='binary_crossentropy',\n",
    "              metrics=['accuracy'])\n",
    "\n",
    "history = model.fit(X_train, y_train, epochs=100, batch_size=128, callbacks=[\n",
    "                    history], validation_split=0.2)\n",
    "test_loss, test_acc = model.evaluate(X_test, y_test)"
   ]
  },
  {
   "cell_type": "code",
   "execution_count": 23,
   "metadata": {},
   "outputs": [
    {
     "name": "stdout",
     "output_type": "stream",
     "text": [
      "226/226 [==============================] - 0s 921us/step\n",
      "              precision    recall  f1-score   support\n",
      "\n",
      "         0.0       0.64      0.74      0.69      3547\n",
      "         1.0       0.70      0.59      0.64      3662\n",
      "\n",
      "    accuracy                           0.67      7209\n",
      "   macro avg       0.67      0.67      0.67      7209\n",
      "weighted avg       0.67      0.67      0.66      7209\n",
      "\n"
     ]
    }
   ],
   "source": [
    "y_pred_test = model.predict(X_test)\n",
    "y_pred_test = [int(i > .5) for i in y_pred_test]\n",
    "\n",
    "print(classification_report(y_test, y_pred_test))"
   ]
  },
  {
   "cell_type": "code",
   "execution_count": 26,
   "metadata": {},
   "outputs": [
    {
     "data": {
      "image/png": "[encoded data removed]",
      "text/plain": [
       "<Figure size 800x500 with 1 Axes>"
      ]
     },
     "metadata": {},
     "output_type": "display_data"
    }
   ],
   "source": [
    "pd.DataFrame(history.history).plot(\n",
    "    figsize=(8, 5), xlim=[0, 29], ylim=[0, 1], grid=True, xlabel=\"Epoka\",\n",
    "    style=[\"r--\", \"r--.\", \"b-\", \"b-*\"])\n",
    "plt.show()"
   ]
  },
  {
   "cell_type": "markdown",
   "metadata": {},
   "source": [
    "# StackingClassifier\n"
   ]
  },
  {
   "cell_type": "code",
   "execution_count": 10,
   "metadata": {},
   "outputs": [
    {
     "name": "stdout",
     "output_type": "stream",
     "text": [
      "Best Score: 0.6437786100707449\n",
      "Best Hyperparameters: {'cv': 2, 'estimators': [('lr', LogisticRegression(random_state=42)), ('rf', RandomForestClassifier(random_state=42)), ('svc', SVC(probability=True, random_state=42))], 'final_estimator__bootstrap': True, 'final_estimator__ccp_alpha': 0.0, 'final_estimator__class_weight': None, 'final_estimator__criterion': 'gini', 'final_estimator__max_depth': None, 'final_estimator__max_features': 'sqrt', 'final_estimator__max_leaf_nodes': None, 'final_estimator__max_samples': None, 'final_estimator__min_impurity_decrease': 0.0, 'final_estimator__min_samples_leaf': 1, 'final_estimator__min_samples_split': 2, 'final_estimator__min_weight_fraction_leaf': 0.0, 'final_estimator__n_estimators': 100, 'final_estimator__n_jobs': None, 'final_estimator__oob_score': False, 'final_estimator__random_state': 43, 'final_estimator__verbose': 0, 'final_estimator__warm_start': False, 'final_estimator': RandomForestClassifier(random_state=43), 'n_jobs': None, 'passthrough': False, 'stack_method': 'auto', 'verbose': 0, 'lr': LogisticRegression(random_state=42), 'rf': RandomForestClassifier(random_state=42), 'svc': SVC(probability=True, random_state=42), 'lr__C': 1.0, 'lr__class_weight': None, 'lr__dual': False, 'lr__fit_intercept': True, 'lr__intercept_scaling': 1, 'lr__l1_ratio': None, 'lr__max_iter': 100, 'lr__multi_class': 'auto', 'lr__n_jobs': None, 'lr__penalty': 'l2', 'lr__random_state': 42, 'lr__solver': 'lbfgs', 'lr__tol': 0.0001, 'lr__verbose': 0, 'lr__warm_start': False, 'rf__bootstrap': True, 'rf__ccp_alpha': 0.0, 'rf__class_weight': None, 'rf__criterion': 'gini', 'rf__max_depth': None, 'rf__max_features': 'sqrt', 'rf__max_leaf_nodes': None, 'rf__max_samples': None, 'rf__min_impurity_decrease': 0.0, 'rf__min_samples_leaf': 1, 'rf__min_samples_split': 2, 'rf__min_weight_fraction_leaf': 0.0, 'rf__n_estimators': 100, 'rf__n_jobs': None, 'rf__oob_score': False, 'rf__random_state': 42, 'rf__verbose': 0, 'rf__warm_start': False, 'svc__C': 1.0, 'svc__break_ties': False, 'svc__cache_size': 200, 'svc__class_weight': None, 'svc__coef0': 0.0, 'svc__decision_function_shape': 'ovr', 'svc__degree': 3, 'svc__gamma': 'scale', 'svc__kernel': 'rbf', 'svc__max_iter': -1, 'svc__probability': True, 'svc__random_state': 42, 'svc__shrinking': True, 'svc__tol': 0.001, 'svc__verbose': False}\n"
     ]
    },
    {
     "ename": "NameError",
     "evalue": "name 'best_random' is not defined",
     "output_type": "error",
     "traceback": [
      "\u001b[1;31m---------------------------------------------------------------------------\u001b[0m",
      "\u001b[1;31mNameError\u001b[0m                                 Traceback (most recent call last)",
      "\u001b[1;32mc:\\Users\\marci\\OneDrive - Politechnika Warszawska\\Documents\\PracaInżynierska\\Software\\master\\ml_implementation.ipynb Cell 35\u001b[0m line \u001b[0;36m2\n\u001b[0;32m     <a href='vscode-notebook-cell:/c%3A/Users/marci/OneDrive%20-%20Politechnika%20Warszawska/Documents/PracaIn%C5%BCynierska/Software/master/ml_implementation.ipynb#X65sZmlsZQ%3D%3D?line=15'>16</a>\u001b[0m \u001b[39mprint\u001b[39m(\u001b[39m'\u001b[39m\u001b[39mBest Hyperparameters: \u001b[39m\u001b[39m%s\u001b[39;00m\u001b[39m'\u001b[39m \u001b[39m%\u001b[39m result\u001b[39m.\u001b[39mget_params())\n\u001b[0;32m     <a href='vscode-notebook-cell:/c%3A/Users/marci/OneDrive%20-%20Politechnika%20Warszawska/Documents/PracaIn%C5%BCynierska/Software/master/ml_implementation.ipynb#X65sZmlsZQ%3D%3D?line=18'>19</a>\u001b[0m \u001b[39m# Prediction with best model from random search\u001b[39;00m\n\u001b[0;32m     <a href='vscode-notebook-cell:/c%3A/Users/marci/OneDrive%20-%20Politechnika%20Warszawska/Documents/PracaIn%C5%BCynierska/Software/master/ml_implementation.ipynb#X65sZmlsZQ%3D%3D?line=19'>20</a>\u001b[0m \u001b[39m# best_random = result.best_estimator_\u001b[39;00m\n\u001b[1;32m---> <a href='vscode-notebook-cell:/c%3A/Users/marci/OneDrive%20-%20Politechnika%20Warszawska/Documents/PracaIn%C5%BCynierska/Software/master/ml_implementation.ipynb#X65sZmlsZQ%3D%3D?line=21'>22</a>\u001b[0m y_pred_test \u001b[39m=\u001b[39m best_random\u001b[39m.\u001b[39mpredict(X_test)\n\u001b[0;32m     <a href='vscode-notebook-cell:/c%3A/Users/marci/OneDrive%20-%20Politechnika%20Warszawska/Documents/PracaIn%C5%BCynierska/Software/master/ml_implementation.ipynb#X65sZmlsZQ%3D%3D?line=22'>23</a>\u001b[0m \u001b[39mprint\u001b[39m(classification_report(y_test, y_pred_test))\n",
      "\u001b[1;31mNameError\u001b[0m: name 'best_random' is not defined"
     ]
    }
   ],
   "source": [
    "from sklearn.ensemble import StackingClassifier\n",
    "from sklearn.svm import SVC\n",
    "\n",
    "stacking_clf = StackingClassifier(\n",
    "    estimators=[\n",
    "        ('lr', LogisticRegression(random_state=42)),\n",
    "        ('rf', RandomForestClassifier(random_state=42)),\n",
    "        ('svc', SVC(probability=True, random_state=42))\n",
    "    ],\n",
    "    final_estimator=RandomForestClassifier(random_state=43),\n",
    "    cv=2  # liczba podzbiorów sprawdzianu krzyżowego\n",
    ")\n",
    "result = stacking_clf.fit(X_train, y_train)\n",
    "\n",
    "print('Best Score: %s' % result.score(X_test, y_test))\n",
    "print('Best Hyperparameters: %s' % result.get_params())\n",
    "\n",
    "\n",
    "# Prediction with best model from random search\n",
    "# best_random = result.best_estimator_\n",
    "\n",
    "print(classification_report(y_test, y_pred_test))"
   ]
  }
 ],
 "metadata": {
  "kernelspec": {
   "display_name": "base",
   "language": "python",
   "name": "python3"
  },
  "language_info": {
   "codemirror_mode": {
    "name": "ipython",
    "version": 3
   },
   "file_extension": ".py",
   "mimetype": "text/x-python",
   "name": "python",
   "nbconvert_exporter": "python",
   "pygments_lexer": "ipython3",
   "version": "3.9.13"
  },
  "orig_nbformat": 4
 },
 "nbformat": 4,
 "nbformat_minor": 2
}

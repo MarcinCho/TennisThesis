{
 "cells": [
  {
   "cell_type": "code",
   "execution_count": null,
   "metadata": {},
   "outputs": [],
   "source": [
    "def player_bets_stats(db, player_name, date, match_id):\n",
    "\n",
    "    useble_name = player_name_for_bets(player_name)\n",
    "    print('from here')\n",
    "    player_bets_stats_wins = db.loc[(db['date'] > (\n",
    "        date - time_interval_current_form)) & (db['date'] < date) & (db['P1_name'] == useble_name)]\n",
    "    player_bets_stats_loses = db.loc[(db['date'] > (\n",
    "        date - time_interval_current_form)) & (db['date'] < date) & (db['P2_name'] == useble_name)]\n",
    "    print(player_bets_stats_wins)\n",
    "\n",
    "    wins_to_drop = ['date', 'P1_name', 'P2_name', 'CBL', 'GBL', 'IWL', 'SBL',  'B365L',\n",
    "                    'B&WL', 'EXL', 'PSL', 'UBL', 'LBL', 'SJL', 'MaxL', 'AvgL']\n",
    "    loses_to_drop = ['date', 'P1_name', 'P2_name', 'CBW', 'GBW', 'IWW', 'SBW', 'B365W',\n",
    "                     'B&WW', 'EXW', 'PSW', 'UBW', 'LBW', 'SJW', 'MaxW', 'AvgW']\n",
    "\n",
    "    player_bets_stats_wins = player_bets_stats_wins.drop(wins_to_drop, axis=1)\n",
    "    player_bets_stats_loses = player_bets_stats_loses.drop(\n",
    "        loses_to_drop, axis=1)\n",
    "\n",
    "    player_bets_stats_wins = player_bets_stats_wins.mean()\n",
    "    player_bets_stats_loses = player_bets_stats_loses.mean()\n",
    "    player_bets_stats = pd.concat(\n",
    "        [player_bets_stats_wins, player_bets_stats_loses])\n",
    "\n",
    "    print(type(player_bets_stats))\n",
    "    print(player_bets_stats_wins)\n",
    "    print(player_bets_stats_loses)\n",
    "\n",
    "    print('to here')\n",
    "\n",
    "    # player_bets_stats = player_bets_stats.to_frame()\n",
    "\n",
    "    # return player_bets_stats"
   ]
  },
  {
   "cell_type": "code",
   "execution_count": null,
   "metadata": {},
   "outputs": [],
   "source": [
    "def player_name_for_bets(player_name):\n",
    "\n",
    "    name = player_name.split(' ')\n",
    "    last_name = name[-1]\n",
    "    first_name = name[0][0] + '.'\n",
    "    useble_name = last_name + ' ' + first_name\n",
    "\n",
    "    return useble_name"
   ]
  },
  {
   "cell_type": "code",
   "execution_count": null,
   "metadata": {},
   "outputs": [],
   "source": [
    "def player_vs_player_bets(db, player1, player2, date):\n",
    "\n",
    "    player_1 = player_name_for_bets(player1)\n",
    "    player_2 = player_name_for_bets(player2)\n",
    "\n",
    "    player_1_bets = db.loc[(db['Date'] > (\n",
    "        date - time_interval_player_vs_player)) & (db['Date'] < date) & (((db['P1_name'] == player_1) & (db['P2_name'] == player_2)) | ((db['P1_name'] == player_2) & (db['P2_name'] == player_1)))]\n",
    "\n",
    "    player_2_bets = db.loc[(db['date'] > (\n",
    "        date - time_interval_player_vs_player)) & (db['date'] < date) & (((db['P1_name'] == player_2) & (db['P2_name'] == player_1)) | ((db['P1_name'] == player_1) & (db['P2_name'] == player_2)))]\n",
    "\n",
    "    return player_1_bets['AvgW'].mean(), player_2_bets"
   ]
  }
 ],
 "metadata": {
  "language_info": {
   "name": "python"
  },
  "orig_nbformat": 4
 },
 "nbformat": 4,
 "nbformat_minor": 2
}

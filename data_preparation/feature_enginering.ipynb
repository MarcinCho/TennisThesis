{
 "cells": [
  {
   "cell_type": "markdown",
   "metadata": {},
   "source": [
    "# Feature ennginering\n",
    "- adding alternative rankings\n",
    "- using only historical data"
   ]
  },
  {
   "cell_type": "markdown",
   "metadata": {},
   "source": [
    "Opens file"
   ]
  },
  {
   "cell_type": "code",
   "execution_count": null,
   "metadata": {},
   "outputs": [],
   "source": [
    "import numpy as np\n",
    "import pandas as pd\n",
    "import warnings\n",
    "warnings.simplefilter(action='ignore', category=FutureWarning)\n",
    "\n",
    "db = pd.read_csv('db/out/wta_std.csv')\n",
    "\n",
    "db['date'] = pd.to_datetime(db['date'], format='%Y-%m-%d')\n",
    "\n",
    "db.dropna()"
   ]
  },
  {
   "cell_type": "markdown",
   "metadata": {},
   "source": [
    "ELO and GLICKO rankings\n"
   ]
  },
  {
   "cell_type": "code",
   "execution_count": null,
   "metadata": {},
   "outputs": [],
   "source": [
    "from utils.rating_elo import update_elo\n",
    "\n",
    "\n",
    "players = pd.concat([db['name_P1'], db['name_P2']]).unique()\n",
    "ratings = {player: 1500 for player in players}\n",
    "\n",
    "\n",
    "db['elo_P1'] = np.nan\n",
    "db['elo_P2'] = np.nan\n",
    "\n",
    "\n",
    "for id, match in db.iterrows():\n",
    "    player1 = match['name_P1']\n",
    "    player2 = match['name_P2']\n",
    "    player1_rating = ratings[player1]\n",
    "    player2_rating = ratings[player2]\n",
    "    db.at[id, 'elo_P1'] = player1_rating\n",
    "    db.at[id, 'elo_P2'] = player2_rating\n",
    "    ratings[player1], ratings[player2] = update_elo(\n",
    "        player1_rating, player1_rating, match['y'])"
   ]
  },
  {
   "cell_type": "code",
   "execution_count": null,
   "metadata": {},
   "outputs": [],
   "source": [
    "from utils.rating_glicko import update_glicko\n",
    "\n",
    "DEFAULT_RD = 350\n",
    "\n",
    "\n",
    "ratings_glico = {player: 1500 for player in players}\n",
    "\n",
    "RDs = {player: DEFAULT_RD for player in players}\n",
    "\n",
    "volatility = {player: 0.06 for player in players}\n",
    "\n",
    "\n",
    "db['glicko_P1'] = np.nan\n",
    "db['glicko_P2'] = np.nan\n",
    "db['RD_P1'] = np.nan\n",
    "db['RD_P2'] = np.nan\n",
    "\n",
    "\n",
    "for id, row in db.iterrows():\n",
    "    p1 = row['name_P1']\n",
    "    p2 = row['name_P2']\n",
    "\n",
    "    # Get current ratings and RDs\n",
    "    p1_current_rating = ratings_glico[p1]\n",
    "    p2_current_rating = ratings_glico[p2]\n",
    "    p1_current_RD = RDs[p1]\n",
    "    p2_current_RD = RDs[p2]\n",
    "    p1_current_volatility = volatility[p1]\n",
    "    p2_current_volatility = volatility[p2]\n",
    "\n",
    "    # Store current ratings and RDs\n",
    "    db.loc[id, 'glicko_P1'] = p1_current_rating\n",
    "    db.loc[id, 'glicko_P2'] = p2_current_rating\n",
    "    db.loc[id, 'RD_P1'] = p1_current_RD\n",
    "    db.loc[id, 'RD_P2'] = p2_current_RD\n",
    "\n",
    "    # Update ratings and RDs based on match result (P1 is assumed to be the winner)\n",
    "    p1_new_rating, p1_new_RD = update_glicko(\n",
    "        p1_current_rating, p1_current_RD, p2_current_rating, p2_current_RD, 1)\n",
    "    p2_new_rating, p2_new_RD, = update_glicko(\n",
    "        p2_current_rating, p2_current_RD, p1_current_rating, p1_current_RD, 0)\n",
    "\n",
    "    # Update the ratings and RDs dictionary\n",
    "    ratings_glico[p1] = p1_new_rating\n",
    "    RDs[p1] = p1_new_RD\n",
    "    ratings_glico[p2] = p2_new_rating\n",
    "    RDs[p2] = p2_new_RD"
   ]
  },
  {
   "cell_type": "markdown",
   "metadata": {},
   "source": [
    "Basic stats "
   ]
  },
  {
   "cell_type": "code",
   "execution_count": null,
   "metadata": {},
   "outputs": [],
   "source": [
    "from utils.features import basicfeatureCreator\n",
    "basic_stats = basicfeatureCreator(db)"
   ]
  },
  {
   "cell_type": "markdown",
   "metadata": {},
   "source": [
    "Player vs. Player stats"
   ]
  },
  {
   "cell_type": "code",
   "execution_count": null,
   "metadata": {},
   "outputs": [],
   "source": [
    "from utils.vsFeatures import vsfeatureCreator\n",
    "\n",
    "vsstats = vsfeatureCreator(db)\n",
    "\n",
    "mean_pvp = pd.merge(\n",
    "    basic_stats, vsstats, on=['match_id'], how='inner', suffixes=('', '_VS'))\n",
    "\n",
    "mean_pvp.drop(\n",
    "    ['draw_size', 'tourney_level', 'surface', 'hand_P1', 'hand_P2'], inplace=True, axis=1)\n",
    "\n",
    "db = mean_pvp\n",
    "\n",
    "testp1 = db.filter(regex='_P1_VS$', axis=1)\n",
    "\n",
    "testp2 = db.filter(regex='_P2_VS$', axis=1)\n",
    "\n",
    "\n",
    "feats = list(zip(testp1.columns, testp2.columns))\n",
    "\n",
    "\n",
    "for col_a, col_b in feats:\n",
    "    db[col_a[:-6] + '_vs'] = db[col_a] - db[col_b]\n",
    "\n",
    "db.drop(testp1.columns, axis=1, inplace=True)\n",
    "\n",
    "db.drop(testp2.columns, axis=1, inplace=True)\n",
    "\n",
    "non_numeric_columns = db.select_dtypes(['object']).columns\n",
    "\n",
    "db = db.drop(non_numeric_columns, axis=1)\n",
    "\n",
    "testp1 = db.filter(regex='_P1$', axis=1)\n",
    "\n",
    "testp2 = db.filter(regex='_P2$', axis=1)\n",
    "\n",
    "feats = list(zip(testp1.columns, testp2.columns))\n",
    "\n",
    "for col_a, col_b in feats:\n",
    "    db[col_a[:-3]] = db[col_a] - db[col_b]\n",
    "\n",
    "db.drop(testp1.columns, axis=1, inplace=True)\n",
    "\n",
    "db.drop(testp2.columns, axis=1, inplace=True)\n",
    "\n",
    "db.info()\n",
    "\n",
    "db.to_csv(\n",
    "    '../db/out/wta_s.csv', index=False)"
   ]
  }
 ],
 "metadata": {
  "kernelspec": {
   "display_name": "Python 3",
   "language": "python",
   "name": "python3"
  },
  "language_info": {
   "codemirror_mode": {
    "name": "ipython",
    "version": 3
   },
   "file_extension": ".py",
   "mimetype": "text/x-python",
   "name": "python",
   "nbconvert_exporter": "python",
   "pygments_lexer": "ipython3",
   "version": "3.12.3"
  },
  "orig_nbformat": 4
 },
 "nbformat": 4,
 "nbformat_minor": 2
}
